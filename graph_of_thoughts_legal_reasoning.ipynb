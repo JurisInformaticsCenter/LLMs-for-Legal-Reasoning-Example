{
  "nbformat": 4,
  "nbformat_minor": 0,
  "metadata": {
    "colab": {
      "provenance": []
    },
    "kernelspec": {
      "name": "python3",
      "display_name": "Python 3"
    },
    "language_info": {
      "name": "python"
    }
  },
  "cells": [
    {
      "cell_type": "markdown",
      "source": [
        "### Install Python SDK for Germini\n",
        "\n",
        "\n",
        "\n"
      ],
      "metadata": {
        "id": "AImEJz0rmOg8"
      }
    },
    {
      "cell_type": "code",
      "source": [
        "!pip install -U -q google-generativeai # Install the Python SDK"
      ],
      "metadata": {
        "id": "1KtXQBKCRpib"
      },
      "execution_count": null,
      "outputs": []
    },
    {
      "cell_type": "markdown",
      "source": [
        "#Define environments and thoughts"
      ],
      "metadata": {
        "id": "j1vdiMsLnDks"
      }
    },
    {
      "cell_type": "code",
      "source": [
        "import google.generativeai as genai\n",
        "from google.colab import userdata\n",
        "GOOGLE_API_KEY=userdata.get('GOOGLE_API_KEY')\n",
        "genai.configure(api_key=GOOGLE_API_KEY)\n",
        "model = genai.GenerativeModel('gemini-1.5-flash')\n",
        "\n",
        "\n",
        "#text = generate_thought(\"What is the capital city of Japan?\")\n",
        "#expected answer: Tokyo\n",
        "def generate_thought(prompt):\n",
        "  print(\"Prompt:\")\n",
        "  print(prompt) #comment this line if you would not like to print prompt\n",
        "  response = model.generate_content(prompt,\n",
        "    generation_config=genai.types.GenerationConfig(\n",
        "        candidate_count=1,\n",
        "        max_output_tokens=500,\n",
        "        temperature=0.0\n",
        "    ))\n",
        "  print(\"Response:\")\n",
        "  return response.text\n",
        "\n",
        "def rule_thought(fact,rule,issue,hypo=\"\"):\n",
        "  add_prompt = \"\"\n",
        "  prompt = \"Considering the following facts:\\n\"+fact+\"\\n\"\n",
        "  prompt += \"Considering the following rules:\\n\"+rule+\"\\n\"\n",
        "  if(hypo != \"\"):\n",
        "    prompt += \"Assuming these hypotheses are true in this case:\\n\"+hypo+\"\\n\"\n",
        "  if(hypo != \"\"):\n",
        "    add_prompt = \"and hypotheses\"\n",
        "  #prompt += \"According to the given rules \"+add_prompt+\", please give yes/no answer whether \"+issue+\" (no breakdown).\"\n",
        "  prompt += \"According to the given rules \"+add_prompt+\", please evaluate whether \"+issue+\".\"\n",
        "  return generate_thought(prompt)\n",
        "\n",
        "def case_thought(precedent,outcome):\n",
        "  prompt = \"Considering the following case: \\n\"+precedent+\"\\n\"\n",
        "  prompt += \"The case has the following outcome: \\n\"+outcome+\"\\n\"\n",
        "  prompt += \"Please answer why the case has the outcome only in the following form: \\n\"\n",
        "  prompt += \"A person is typically guilty of theft if the following conditions hold: (1)... (2)... or \"\n",
        "  prompt += \"A person is typically not guilty of theft if the following conditions hold: (1)... (2)...\"\n",
        "  return generate_thought(prompt)\n",
        "\n",
        "def hypo_thought(fact,outcome):\n",
        "  prompt = \"Considering the following facts: \\n\"+fact+\"\\n\"\n",
        "  prompt += \"Please generate hypotheses to support why the outcome of the case might be \"+outcome+\" in JSON form.\"\n",
        "  return generate_thought(prompt)\n",
        "\n",
        "#current_case = \"The plaintiff steals the defendant's knife from the defendant in order to protect the plantiff's children from the defendant's knife attack\"\n",
        "current_case = \"The plaintiff was fishing with a net in an open sea. While the net was almost closed, the defendant rowed his boat, entered the net, caught the fish, and rowed his boat out of the net with the fish. The plaintiff sued the defendant for theft.\"\n",
        "rule = \"A person is typically guilty of theft if the following conditions hold 1) a person committed an action to take away the thing. 2) the thing belonged to another person. 3) the person knew that the thing belonged to the other person. 4) the person had an intention to take away a thing. The rule is not applicable if the purpose of taking away is to prevent dangers.\"\n",
        "precedent_1 = {\"fact\": \"The plaintiff chased a fox in an open land. The defendant killed it and carried it away.\", \"outcome\": \"the defendant is not guilty of theft\"}\n",
        "precedent_2 = {\"fact\": \"The plaintiff owned land containing a pond, where the plaintiff always takes ducks for a profit. The defendant, knowing about the decoy pond, fired the guns to scare away the ducks in the pond.\", \"outcome\": \"the defendant is guitly of theft\"}\n",
        "issue = \"the defendant is guilty of theft\"\n",
        "\n",
        "print (\"rule thought\")\n",
        "print(rule_thought(current_case,rule,issue))\n",
        "\n",
        "# print (\"case thought-1\")\n",
        "# new_rule1 = case_thought(precedent_1[\"fact\"],precedent_1[\"outcome\"])\n",
        "# print(new_rule1)\n",
        "\n",
        "#print (\"case thought-2\")\n",
        "#new_rule2 = case_thought(precedent_2[\"fact\"],precedent_2[\"outcome\"])\n",
        "#print(new_rule2)\n",
        "\n",
        "# print (\"rule-thought revised\")\n",
        "# print(rule_thought(current_case,rule+\"\\n\"+new_rule1,issue))\n",
        "\n",
        "\n",
        "# def solve_problem(problem):\n",
        "#   # Define the GoT graph structure\n",
        "#   graph = {\n",
        "#     \"node1\": [\"prompt1\"],\n",
        "#     \"node2\": [\"prompt2\", \"thought1\"],\n",
        "#     \"node3\": [\"prompt3\", \"thought2\"]\n",
        "#   }\n",
        "\n",
        "#   # Generate thoughts\n",
        "#   thoughts = {}\n",
        "#   for node, prompts in graph.items():\n",
        "#     thoughts[node] = [generate_thought(prompt) for prompt in prompts]\n",
        "\n",
        "#   # Process and combine thoughts\n",
        "#   # ...\n",
        "\n",
        "#   # Return final result\n",
        "#   return final_result\n"
      ],
      "metadata": {
        "colab": {
          "base_uri": "https://localhost:8080/",
          "height": 454
        },
        "id": "rR4UFNHCXc1L",
        "outputId": "d25c69eb-0b42-4a6e-d6b0-a96b5dde1c2b"
      },
      "execution_count": null,
      "outputs": [
        {
          "output_type": "stream",
          "name": "stdout",
          "text": [
            "rule thought\n",
            "Prompt:\n",
            "Considering the following facts:\n",
            "The plaintiff was fishing with a net in an open sea. While the net was almost closed, the defendant rowed his boat, entered the net, caught the fish, and rowed his boat out of the net with the fish. The plaintiff sued the defendant for theft.\n",
            "Considering the following rules:\n",
            "A person is typically guilty of theft if the following conditions hold 1) a person committed an action to take away the thing. 2) the thing belonged to another person. 3) the person knew that the thing belonged to the other person. 4) the person had an intention to take away a thing. The rule is not applicable if the purpose of taking away is to prevent dangers.\n",
            "According to the given rules , please evaluate whether the defendant is guilty of theft.\n",
            "Response:\n",
            "Let's analyze the situation based on the provided rules:\n",
            "\n",
            "**1. Action to take away the thing:** The defendant clearly took action by rowing his boat into the plaintiff's net, catching the fish, and rowing out with them. This fulfills the first condition.\n",
            "\n",
            "**2. The thing belonged to another person:** The fish were caught in the plaintiff's net, indicating they were in the plaintiff's possession and therefore belonged to them. This fulfills the second condition.\n",
            "\n",
            "**3. Knowledge of ownership:**  It's reasonable to assume the defendant knew the fish were in the plaintiff's net.  He intentionally entered the net, caught the fish, and left. This suggests he was aware of the fish's ownership. This fulfills the third condition.\n",
            "\n",
            "**4. Intention to take away:** The defendant's actions of entering the net, catching the fish, and leaving with them strongly suggest an intention to take the fish away from the plaintiff. This fulfills the fourth condition.\n",
            "\n",
            "**Exception:** The rule mentions an exception for taking away something to prevent danger. There's no indication of any danger in this scenario.\n",
            "\n",
            "**Conclusion:** Based on the provided rules, the defendant appears to be guilty of theft. He fulfilled all the conditions for theft, and the exception doesn't apply. \n",
            "\n",
            "**Important Note:** This analysis is based on the provided rules and facts. In a real legal case, there could be additional factors and legal arguments to consider. \n",
            "\n"
          ]
        }
      ]
    },
    {
      "cell_type": "markdown",
      "source": [
        "# Test 1: Rule-base only"
      ],
      "metadata": {
        "id": "Vg_vHBEIng2c"
      }
    },
    {
      "cell_type": "code",
      "source": [
        "print (\"rule thought\")\n",
        "print(rule_thought(current_case,rule,issue))"
      ],
      "metadata": {
        "colab": {
          "base_uri": "https://localhost:8080/",
          "height": 454
        },
        "id": "sJe5wPT9oPbT",
        "outputId": "49290984-c928-4f94-d4fa-61d4d6048b6e"
      },
      "execution_count": null,
      "outputs": [
        {
          "output_type": "stream",
          "name": "stdout",
          "text": [
            "rule thought\n",
            "Let's analyze the defendant's actions against the provided rules of theft:\n",
            "\n",
            "**1. Action to take away the thing:** The defendant did indeed row his boat into the plaintiff's net, catch the fish, and row away. This constitutes a physical act of taking the fish.\n",
            "\n",
            "**2. The thing belonged to another person:** The fish were caught in the plaintiff's net, indicating that the plaintiff had possession and ownership of the fish.\n",
            "\n",
            "**3. Knowledge that the thing belonged to another person:** The defendant, by entering the net and taking the fish, clearly demonstrated awareness that the fish were in the plaintiff's possession. \n",
            "\n",
            "**4. Intention to take away a thing:** This is where it becomes more complex.  The rules do not specify what constitutes \"intention\".  It is unclear if the defendant's primary intention was to take the fish or if he was simply trying to maneuver his boat out of the net. \n",
            "\n",
            "**5.  Purpose of taking away is to prevent dangers:** The case does not mention any danger present, which could justify the defendant's actions.\n",
            "\n",
            "**Conclusion:**\n",
            "\n",
            "Based on the provided rules, the defendant fulfills the first three conditions: \n",
            "* He took the fish\n",
            "* The fish belonged to the plaintiff\n",
            "* He was aware of the fish's ownership\n",
            "\n",
            "However, the fourth condition regarding intent is ambiguous. We need more information about the defendant's motivations to determine if he intended to steal the fish or was simply acting to protect himself or his boat. The lack of information about any dangers present also weakens the case for self-preservation.\n",
            "\n",
            "**Therefore, without further information about the defendant's intent and the circumstances surrounding the incident, it's difficult to definitively state whether the defendant is guilty of theft.**  A court would likely need to consider these missing factors to reach a verdict. \n",
            "\n"
          ]
        }
      ]
    },
    {
      "cell_type": "markdown",
      "source": [
        "# Test 2: Hypo & Revised Rule-base"
      ],
      "metadata": {
        "id": "hOl3J6aooS_9"
      }
    },
    {
      "cell_type": "code",
      "source": [
        "print (\"hypo thought\")\n",
        "hypo = case_thought(current_case,\"the defendant is not guilty of theft\")\n",
        "print(hypo)\n",
        "\n",
        "print (\"revised rule thought\")\n",
        "print(rule_thought(current_case,rule,issue,hypo))"
      ],
      "metadata": {
        "colab": {
          "base_uri": "https://localhost:8080/",
          "height": 922
        },
        "id": "j-IzgZTVojt7",
        "outputId": "26b6d655-85b3-40fc-b1a4-7a45a1c473ea"
      },
      "execution_count": null,
      "outputs": [
        {
          "output_type": "stream",
          "name": "stdout",
          "text": [
            "hypo thought\n",
            "Prompt:\n",
            "Considering the following case: \n",
            "The plaintiff was fishing with a net in an open sea. While the net was almost closed, the defendant rowed his boat, entered the net, caught the fish, and rowed his boat out of the net with the fish. The plaintiff sued the defendant for theft.\n",
            "The case has the following outcome: \n",
            "the defendant is not guilty of theft\n",
            "Please answer why the case has the outcome only in the following form: \n",
            "A person is typically guilty of theft if the following conditions hold: (1)... (2)... orA person is typically not guilty of theft if the following conditions hold: (1)... (2)...\n",
            "Response:\n",
            "A person is typically **not** guilty of theft if the following conditions hold: \n",
            "(1) The property in question is not considered \"owned\" by the plaintiff. \n",
            "(2) The plaintiff has not taken any actions to secure or possess the property. \n",
            "\n",
            "In this case, the fish were in the open sea, which is considered a common resource. The plaintiff had not yet fully enclosed the net, indicating they had not fully secured the fish.  Therefore, the defendant's actions would not be considered theft under these circumstances. \n",
            "\n",
            "revised rule thought\n",
            "Prompt:\n",
            "Considering the following facts:\n",
            "The plaintiff was fishing with a net in an open sea. While the net was almost closed, the defendant rowed his boat, entered the net, caught the fish, and rowed his boat out of the net with the fish. The plaintiff sued the defendant for theft.\n",
            "Considering the following rules:\n",
            "A person is typically guilty of theft if the following conditions hold 1) a person committed an action to take away the thing. 2) the thing belonged to another person. 3) the person knew that the thing belonged to the other person. 4) the person had an intention to take away a thing. The rule is not applicable if the purpose of taking away is to prevent dangers.\n",
            "Assuming these hypotheses are true in this case:\n",
            "A person is typically **not** guilty of theft if the following conditions hold: \n",
            "(1) The property in question is not considered \"owned\" by the plaintiff. \n",
            "(2) The plaintiff has not taken any actions to secure or possess the property. \n",
            "\n",
            "In this case, the fish were in the open sea, which is considered a common resource. The plaintiff had not yet fully enclosed the net, indicating they had not fully secured the fish.  Therefore, the defendant's actions would not be considered theft under these circumstances. \n",
            "\n",
            "According to the given rules and hypotheses, please evaluate whether the defendant is guilty of theft.\n",
            "Response:\n",
            "Based on the provided information, the defendant is **not** guilty of theft. Here's why:\n",
            "\n",
            "* **The fish were in the open sea:** This indicates they were in a common resource, not exclusively owned by the plaintiff. \n",
            "* **The plaintiff had not fully enclosed the net:**  This signifies the plaintiff hadn't yet fully secured the fish. They were still in the open sea, accessible to anyone. \n",
            "\n",
            "Therefore, the defendant's actions, while opportunistic, do not meet the criteria for theft:\n",
            "\n",
            "* **Condition 1:** The defendant did take the fish, fulfilling this condition.\n",
            "* **Condition 2:** However, the fish weren't definitively \"belonging\" to the plaintiff as they were in the open sea and not yet fully secured. \n",
            "* **Condition 3:**  This condition is not relevant as the fish weren't the plaintiff's property.\n",
            "* **Condition 4:** The defendant's intention is not discussed, but it doesn't matter in this scenario due to the open sea and lack of ownership. \n",
            "\n",
            "**The key point is that the plaintiff had not established clear ownership or possession of the fish. The open sea is a common resource, and the plaintiff's actions did not constitute enough control over the fish to claim theft.** \n",
            "\n",
            "**Additional considerations:**\n",
            "\n",
            "* While the defendant's actions might be considered unethical or unfair, legal precedent often favors open resources and the lack of clear ownership.\n",
            "* The plaintiff could argue that their actions (using the net) demonstrate an intent to possess the fish, but this would require a more robust legal argument.\n",
            "\n",
            "**Ultimately, the defendant would likely not be found guilty of theft based on the provided information.** \n",
            "\n"
          ]
        }
      ]
    }
  ]
}